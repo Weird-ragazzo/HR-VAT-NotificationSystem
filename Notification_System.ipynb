{
  "nbformat": 4,
  "nbformat_minor": 0,
  "metadata": {
    "colab": {
      "provenance": []
    },
    "kernelspec": {
      "name": "python3",
      "display_name": "Python 3"
    },
    "language_info": {
      "name": "python"
    }
  },
  "cells": [
    {
      "cell_type": "code",
      "source": [
        "!pip install supabase"
      ],
      "metadata": {
        "id": "EVnytUtRavoj"
      },
      "execution_count": null,
      "outputs": []
    },
    {
      "cell_type": "code",
      "source": [
        "from supabase import create_client, Client\n",
        "url: str = \"\"\n",
        "key: str = \"\"\n",
        "\n",
        "supabase: Client = create_client(url, key)"
      ],
      "metadata": {
        "id": "pQsoq_XKqajr"
      },
      "execution_count": 26,
      "outputs": []
    },
    {
      "cell_type": "code",
      "source": [
        "def login(username, password):\n",
        "    data = supabase.table(\"users\").select(\"password_hash\").eq(\"username\", username).execute()\n",
        "    # print(data.data)\n",
        "    if data.data:\n",
        "      return data.data[0][\"password_hash\"] == password\n",
        "    else:\n",
        "      return \"No user found\""
      ],
      "metadata": {
        "id": "2no8q_bQc7Kh"
      },
      "execution_count": 27,
      "outputs": []
    },
    {
      "cell_type": "code",
      "source": [
        "login(\"john_doe\", \"hashed_password\")"
      ],
      "metadata": {
        "colab": {
          "base_uri": "https://localhost:8080/"
        },
        "id": "KaftMmwFbCbh",
        "outputId": "01b54890-434b-4e19-8b6b-d958e94d0a3d"
      },
      "execution_count": 28,
      "outputs": [
        {
          "output_type": "execute_result",
          "data": {
            "text/plain": [
              "True"
            ]
          },
          "metadata": {},
          "execution_count": 28
        }
      ]
    },
    {
      "cell_type": "code",
      "source": [
        "data = supabase.table(\"notifications\").select(\"message\").eq(\"user_id\", \"1\").execute()"
      ],
      "metadata": {
        "id": "FLR8LQGDdMKx"
      },
      "execution_count": 29,
      "outputs": []
    },
    {
      "cell_type": "code",
      "source": [
        "if data.data:\n",
        "  for i in data.data:\n",
        "    print(\"Notification : \",i.get(\"message\"))"
      ],
      "metadata": {
        "id": "bOz9l6doejLg",
        "colab": {
          "base_uri": "https://localhost:8080/"
        },
        "outputId": "115f99fd-4e32-4b73-8863-85a9dd4744f6"
      },
      "execution_count": 30,
      "outputs": [
        {
          "output_type": "stream",
          "name": "stdout",
          "text": [
            "Notification :  Your exam is scheduled for next week.\n"
          ]
        }
      ]
    }
  ]
}